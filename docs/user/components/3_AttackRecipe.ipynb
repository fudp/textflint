{
 "cells": [
  {
   "cell_type": "markdown",
   "id": "academic-cliff",
   "metadata": {},
   "source": [
    "# AttackRecipe\n",
    "`AttackRecipe` aims to find a perturbation of an input text satisfies the attack's goal to fool the given `FlintModel`. In contrast to `Transformation`, `AttackRecipe` requires the prediction scores of the target model.  textflint provides an interface to integrate the easy-to-use adversarial attack recipes implemented based on `textattack`. Users can refer to [textattack](https://github.com/QData/TextAttack) for more information about the supported `AttackRecipe`. This section provides a brief introduction to how to use `AttackRecipe` in textflint.\n",
    "\n",
    "Tips\n",
    "Using `AttackRecipe` requires manual installation of the `textattack` package, because its dependencies are too complex, and it is not specified in the requirements.\n",
    "\n"
   ]
  },
  {
   "cell_type": "markdown",
   "id": "front-operation",
   "metadata": {},
   "source": [
    "## Using an `AttackRecipe` based on `textattack`"
   ]
  },
  {
   "cell_type": "markdown",
   "id": "adjacent-finland",
   "metadata": {},
   "source": [
    "1. Define a list of `AttackRecipe` in a python file without defining the specific victim model. For example, we create a `attack_ins.py` file with the following commands:\n",
    "\n",
    "```python\n",
    "from textattack.goal_functions import UntargetedClassification\n",
    "from textattack.search_methods import GreedySearch\n",
    "from textattack.constraints.pre_transformation import RepeatModification, StopwordModification\n",
    "from textattack.transformations import WordSwapWordNet\n",
    "from textflint.generation.attack import Attack # Note that here we use the Attack from textflint\n",
    "\n",
    "# Define the goal function class\n",
    "goal_function = UntargetedClassification\n",
    "# We'll constrain modification of already modified indices and stopwords\n",
    "constraints = [RepeatModification(),\n",
    "               StopwordModification()]\n",
    "# We're going to use WordSwapWordNet as the attack transformation.\n",
    "transformation = WordSwapWordNet()\n",
    "# We'll use the Greedy search method\n",
    "search_method = GreedySearch()\n",
    "# Now, let's make the attack from the 4 components:\n",
    "attack = Attack(goal_function, constraints, transformation, search_method)\n",
    "\n",
    "# ... \n",
    "# many attacks form an attack list\n",
    "attacks = [attack]\n",
    "```\n",
    "\n",
    "2. Define the path of above file in the config json file. For example, the config file `SA.json` might look as follows:\n",
    "\n",
    "```json\n",
    "{\n",
    "  \"task\": \"SA\",\n",
    "  \"max_trans\": 1,\n",
    "  \"fields\": \"x\",\n",
    "  \"return_unk\": true,\n",
    "  \"trans_config\": {},\n",
    "  \"trans_methods\": [],\n",
    "  \"sub_methods\": [],\n",
    "  \"attack_methods\": \"/home/yjc/codes/attack_demo/attack_ins.py\" //path to attack_ins.py\n",
    "}\n",
    "```\n",
    "\n",
    "3. Load the SA test dataset:"
   ]
  },
  {
   "cell_type": "code",
   "execution_count": 3,
   "id": "sharp-consciousness",
   "metadata": {},
   "outputs": [],
   "source": [
    "from textflint.input.model.test_model.model_helper import data_loader_csv\n",
    "from textflint.common.utils.install import download_if_needed\n",
    "test_data_set = data_loader_csv(download_if_needed('DATASET/sa_test.csv'))"
   ]
  },
  {
   "cell_type": "markdown",
   "id": "proved-somewhere",
   "metadata": {},
   "source": [
    "4. Create your own modelwrapper that implementing the function `evaluate` and `encode`. More details can be found in the `modelwrapper` tutorial."
   ]
  },
  {
   "cell_type": "code",
   "execution_count": null,
   "id": "average-stewart",
   "metadata": {},
   "outputs": [
    {
     "name": "stderr",
     "output_type": "stream",
     "text": [
      "textattack: Updating TextAttack package dependencies.\n",
      "textattack: Downloading NLTK required packages.\n",
      "[nltk_data] Error loading averaged_perceptron_tagger: <urlopen error\n",
      "[nltk_data]     [Errno 54] Connection reset by peer>\n",
      "[nltk_data] Error loading stopwords: <urlopen error [Errno 54]\n",
      "[nltk_data]     Connection reset by peer>\n"
     ]
    }
   ],
   "source": [
    "from textflint.input.model.flint_model.textcnn_torch import TextCNNTorch\n",
    "model = TextCNNTorch()"
   ]
  },
  {
   "cell_type": "markdown",
   "id": "spatial-mother",
   "metadata": {},
   "source": [
    "5. Feeding the dataset `test_data_set`, output path `out_dir_path`, config file `config` and model `textcnn_wrapper` to the SA engine, and run it! textflint will automatically scan the `attack_ins.py` file and load the `attacks` inside. "
   ]
  },
  {
   "cell_type": "code",
   "execution_count": null,
   "id": "facial-communications",
   "metadata": {},
   "outputs": [],
   "source": [
    "from textflint.engine import Engine\n",
    "from textflint.input.config.config import Config\n",
    "\n",
    "config = Config.from_json_file('/home/yjc/codes/attack_demo/SA.json')\n",
    "out_dir_path = '/home/yjc/codes/attack_demo/test_result'\n",
    "\n",
    "engine = Engine('SA')\n",
    "engine.run(test_data_set, out_dir_path, config, model)"
   ]
  },
  {
   "cell_type": "markdown",
   "id": "narrow-synthesis",
   "metadata": {},
   "source": [
    "The adverisial samples based on the `AttackRecipe` will be also automatically saved to the directory `out_dir_path`, and we can take a quick look at the contents:"
   ]
  },
  {
   "cell_type": "code",
   "execution_count": null,
   "id": "special-graph",
   "metadata": {},
   "outputs": [],
   "source": [
    "with open('/home/yjc/codes/attack_demo/test_result/ori_(Search_GreedySearch)_(Goal_UntargetedClassification)_(Trans_WordSwapWordNet)_(Cons_RepeatModification_StopwordModification)_2702.json', 'r') as f:\n",
    "    for ex in f.readlines()[:2]:\n",
    "        print(\"original: \", ex)\n",
    "        \n",
    "with open('/home/yjc/codes/attack_demo/test_result/trans_(Search_GreedySearch)_(Goal_UntargetedClassification)_(Trans_WordSwapWordNet)_(Cons_RepeatModification_StopwordModification)_2702.json', 'r') as f:\n",
    "    for ex in f.readlines()[:2]:\n",
    "        print(\"transformed: \", ex)"
   ]
  },
  {
   "cell_type": "markdown",
   "id": "accompanied-qualification",
   "metadata": {},
   "source": [
    "## Conclusion\n",
    "In this tutorial, we briefly describe how to use `textattack`'s `AttackRecipe` to generate adverisial samples. We also support loading multiple attacks at once and executing them all by simply runing the `engine`. "
   ]
  },
  {
   "cell_type": "code",
   "execution_count": null,
   "id": "settled-pressing",
   "metadata": {},
   "outputs": [],
   "source": []
  }
 ],
 "metadata": {
  "kernelspec": {
   "display_name": "Python 3 (ipykernel)",
   "language": "python",
   "name": "python3"
  },
  "language_info": {
   "codemirror_mode": {
    "name": "ipython",
    "version": 3
   },
   "file_extension": ".py",
   "mimetype": "text/x-python",
   "name": "python",
   "nbconvert_exporter": "python",
   "pygments_lexer": "ipython3",
   "version": "3.7.11"
  }
 },
 "nbformat": 4,
 "nbformat_minor": 5
}